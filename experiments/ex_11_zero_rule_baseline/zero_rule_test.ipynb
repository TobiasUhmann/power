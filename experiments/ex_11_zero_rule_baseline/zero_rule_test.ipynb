{
 "cells": [
  {
   "cell_type": "code",
   "execution_count": null,
   "metadata": {
    "pycharm": {
     "name": "#%%\n"
    }
   },
   "outputs": [],
   "source": [
    "from random import random\n",
    "from statistics import mean, mode\n",
    "from numpy.random import randint\n",
    "from sklearn.dummy import DummyClassifier\n",
    "from sklearn.metrics import accuracy_score"
   ]
  },
  {
   "cell_type": "markdown",
   "metadata": {
    "pycharm": {
     "name": "#%% md\n"
    }
   },
   "source": [
    "## Define dataset"
   ]
  },
  {
   "cell_type": "code",
   "execution_count": null,
   "metadata": {},
   "outputs": [],
   "source": [
    "class_0 = [0 for _ in range(2)]\n",
    "class_1 = [1 for _ in range(8)]\n",
    "\n",
    "y = class_0 + class_1\n",
    "\n",
    "print('Class 0: {:.1f}%'.format(len(class_0) / len(y) * 100))\n",
    "print('Class 1: {:.1f}%'.format(len(class_1) / len(y) * 100))"
   ]
  },
  {
   "cell_type": "markdown",
   "metadata": {
    "pycharm": {
     "name": "#%% md\n"
    }
   },
   "source": [
    "## General Formula\n",
    "\n",
    "$ P(\\hat{y} = y) = P(\\hat{y} = 0) * P(y = 0) + P(\\hat{y} = 1) * P(y = 1) $\n",
    "\n",
    "## 1. Random-guess strategy\n",
    "\n",
    "$\n",
    "\\begin{align}\n",
    "    P(\\hat{y} = y) & = P(\\hat{y} = 0) * P(y = 0) + P(\\hat{y} = 1) * P(y = 1) \\\\\n",
    "                   & = 0.5 * 0.2 + 0.5 * 0.8 \\\\\n",
    "                   & = 0.1 + 0.4 \\\\\n",
    "                   & = 0.5\n",
    "\\end{align}\n",
    "$"
   ]
  },
  {
   "cell_type": "code",
   "execution_count": null,
   "metadata": {},
   "outputs": [],
   "source": [
    "def random_guess():\n",
    "    return int(random() < 0.5)\n",
    "\n",
    "y_hat = [random_guess() for _ in y]\n",
    "\n",
    "print('y =', y)\n",
    "print('y_hat =', y_hat)\n",
    "\n",
    "acc = accuracy_score(y, y_hat)\n",
    "\n",
    "print('acc =', acc)"
   ]
  },
  {
   "cell_type": "code",
   "execution_count": null,
   "metadata": {
    "pycharm": {
     "name": "#%%\n"
    }
   },
   "outputs": [],
   "source": [
    "accs = []\n",
    "\n",
    "for _ in range(1000):\n",
    "    y_hat = [random_guess() for _ in y]\n",
    "    acc = accuracy_score(y, y_hat)\n",
    "\n",
    "    accs.append(acc)\n",
    "\n",
    "print('mean acc =', mean(accs))"
   ]
  },
  {
   "cell_type": "code",
   "execution_count": null,
   "outputs": [],
   "source": [
    "classifier = DummyClassifier(strategy='uniform')\n",
    "dummy_data = [-1 for _ in y]\n",
    "classifier.fit(dummy_data, y)\n",
    "\n",
    "accs = []\n",
    "\n",
    "for _ in range(1000):\n",
    "    y_hat = classifier.predict(dummy_data)\n",
    "    acc = accuracy_score(y, y_hat)\n",
    "\n",
    "    accs.append(acc)\n",
    "\n",
    "print('mean acc =', mean(accs))"
   ],
   "metadata": {
    "collapsed": false,
    "pycharm": {
     "name": "#%%\n"
    }
   }
  },
  {
   "cell_type": "markdown",
   "metadata": {
    "pycharm": {
     "name": "#%% md\n"
    }
   },
   "source": [
    "## 2. Random-select strategy\n",
    "\n",
    "$\n",
    "\\begin{align}\n",
    "    P(\\hat{y} = y) & = P(\\hat{y} = 0) * P(y = 0) + P(\\hat{y} = 1) * P(y = 1) \\\\\n",
    "                   & = 0.2 * 0.2 + 0.8 * 0.8 \\\\\n",
    "                   & = 0.04 + 0.64 \\\\\n",
    "                   & = 0.68\n",
    "\\end{align}\n",
    "$"
   ]
  },
  {
   "cell_type": "code",
   "execution_count": null,
   "metadata": {
    "pycharm": {
     "name": "#%%\n"
    }
   },
   "outputs": [],
   "source": [
    "def random_select():\n",
    "    return y[randint(len(y))]\n",
    "\n",
    "y_hat = [random_select() for _ in y]\n",
    "\n",
    "print('y =', y)\n",
    "print('y_hat =', y_hat)\n",
    "\n",
    "acc = accuracy_score(y, y_hat)\n",
    "\n",
    "print('acc =', acc)"
   ]
  },
  {
   "cell_type": "code",
   "execution_count": null,
   "metadata": {
    "pycharm": {
     "name": "#%%\n"
    }
   },
   "outputs": [],
   "source": [
    "accs = []\n",
    "\n",
    "for _ in range(1000):\n",
    "    y_hat = [random_select() for _ in y]\n",
    "    acc = accuracy_score(y, y_hat)\n",
    "\n",
    "    accs.append(acc)\n",
    "\n",
    "print('mean acc =', mean(accs))"
   ]
  },
  {
   "cell_type": "code",
   "execution_count": null,
   "outputs": [],
   "source": [
    "classifier = DummyClassifier(strategy='stratified')\n",
    "dummy_data = [-1 for _ in y]\n",
    "classifier.fit(dummy_data, y)\n",
    "\n",
    "accs = []\n",
    "\n",
    "for _ in range(1000):\n",
    "    y_hat = classifier.predict(dummy_data)\n",
    "    acc = accuracy_score(y, y_hat)\n",
    "\n",
    "    accs.append(acc)\n",
    "\n",
    "print('mean acc =', mean(accs))"
   ],
   "metadata": {
    "collapsed": false,
    "pycharm": {
     "name": "#%%\n"
    }
   }
  },
  {
   "cell_type": "markdown",
   "metadata": {},
   "source": [
    "## 3. Majority-select strategy\n",
    "\n",
    "$\n",
    "\\begin{align}\n",
    "    P(\\hat{y} = y) & = P(\\hat{y} = 0) * P(y = 0) + P(\\hat{y} = 1) * P(y = 1) \\\\\n",
    "                   & = 0 * 0.2 + 1 * 0.8 \\\\\n",
    "                   & = 0 + 0.8 \\\\\n",
    "                   & = 0.8\n",
    "\\end{align}\n",
    "$"
   ]
  },
  {
   "cell_type": "code",
   "execution_count": null,
   "metadata": {
    "pycharm": {
     "name": "#%%\n"
    }
   },
   "outputs": [],
   "source": [
    "def majority_select(y):\n",
    "    return mode(y)\n",
    "\n",
    "y_hat = [majority_select(y) for _ in y]\n",
    "\n",
    "print('y =', y)\n",
    "print('y_hat =', y_hat)\n",
    "\n",
    "acc = accuracy_score(y, y_hat)\n",
    "\n",
    "print('acc =', acc)"
   ]
  },
  {
   "cell_type": "code",
   "execution_count": null,
   "outputs": [],
   "source": [
    "classifier = DummyClassifier(strategy='most_frequent')\n",
    "dummy_data = [-1 for _ in y]\n",
    "classifier.fit(dummy_data, y)\n",
    "\n",
    "y_hat = classifier.predict(dummy_data)\n",
    "acc = accuracy_score(y, y_hat)\n",
    "\n",
    "print('acc =', acc)"
   ],
   "metadata": {
    "collapsed": false,
    "pycharm": {
     "name": "#%%\n"
    }
   }
  }
 ],
 "metadata": {
  "kernelspec": {
   "display_name": "Python 3",
   "language": "python",
   "name": "python3"
  },
  "language_info": {
   "codemirror_mode": {
    "name": "ipython",
    "version": 3
   },
   "file_extension": ".py",
   "mimetype": "text/x-python",
   "name": "python",
   "nbconvert_exporter": "python",
   "pygments_lexer": "ipython3",
   "version": "3.9.1"
  }
 },
 "nbformat": 4,
 "nbformat_minor": 1
}