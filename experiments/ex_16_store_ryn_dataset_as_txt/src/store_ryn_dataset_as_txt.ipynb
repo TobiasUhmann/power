{
 "cells": [
  {
   "cell_type": "markdown",
   "source": [
    "# Description (Mar 12)\n",
    "\n",
    "The purpose of this old script was to transform the triples from a\n",
    "`Ryn Dataset` into the format supported by `AnyBURL` so that\n",
    "`AnyBURL` could be used to mine rules from the `Ryn Dataset`.\n",
    "\n",
    "Example input `Ryn` triples:\n",
    "\n",
    "    1234 100 2345\n",
    "    2345 237 3456\n",
    "    ...\n",
    "\n",
    "Intended output triples, suitable as `AnyBURL` input:\n",
    "\n",
    "    Some_Entity relates_to Other_Entity\n",
    "    Other_Entity refers_to Yet_Another_Entity\n",
    "\n",
    "Apparently the code was not finished because the current `Ryn` version (157df68)\n",
    "does not work with the current `pykeen` version (1.4.0) and was replaced by the\n",
    "code in `ex_17_create_anyburl_dataset` which uses custom code to read the\n",
    "`Ryn` dataset.\n",
    "\n",
    "Also, the code would probably create incorrect output for entities/relations\n",
    "whose labels contain whitespaces as `AnyBURL` might not allow it."
   ],
   "metadata": {
    "collapsed": false,
    "pycharm": {
     "name": "#%% md\n"
    }
   }
  },
  {
   "cell_type": "code",
   "execution_count": null,
   "metadata": {
    "collapsed": true
   },
   "outputs": [],
   "source": [
    "from typing import Dict\n",
    "from ryn.graphs.split import Dataset\n",
    "from dao.oid_to_rid_txt import load_oid_to_rid\n",
    "\n",
    "dataset = Dataset.load(path='data/oke.fb15k237_30061990_50')\n",
    "id2rel = dataset.id2rel\n",
    "\n",
    "oid_to_rid: Dict[str, int] = load_oid_to_rid('data/entity2id.txt')\n",
    "rid_to_oid = {rid: oid for oid, rid in oid_to_rid.items()}\n",
    "\n",
    "with open('data/train.txt', 'w', encoding='utf-8') as f:\n",
    "    for triple in dataset.cw_train.triples:\n",
    "        f.write('{}\\t{}\\t{}\\n'.format(\n",
    "            rid_to_oid[triple[0]], id2rel[triple[2]], rid_to_oid[triple[1]]))"
   ]
  }
 ],
 "metadata": {
  "kernelspec": {
   "display_name": "Python 3",
   "language": "python",
   "name": "python3"
  },
  "language_info": {
   "codemirror_mode": {
    "name": "ipython",
    "version": 2
   },
   "file_extension": ".py",
   "mimetype": "text/x-python",
   "name": "python",
   "nbconvert_exporter": "python",
   "pygments_lexer": "ipython2",
   "version": "2.7.6"
  }
 },
 "nbformat": 4,
 "nbformat_minor": 0
}