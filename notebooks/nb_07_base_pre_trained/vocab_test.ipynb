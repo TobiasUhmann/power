{
 "cells": [
  {
   "cell_type": "code",
   "execution_count": null,
   "metadata": {
    "collapsed": true
   },
   "outputs": [],
   "source": [
    "from collections import Counter\n",
    "import torchtext\n",
    "from IPython.lib.pretty import pretty\n",
    "from torch.nn import EmbeddingBag\n",
    "from torchtext.vocab import Vocab\n",
    "\n",
    "text = '<unk> <unk> <unk> Hallo Welt Welt foo foo bar zapp zapp zapp <class> <class>'\n",
    "counter = Counter(text.split())\n",
    "print()\n",
    "print('counter =', counter)\n",
    "\n",
    "vocab = Vocab(counter)\n",
    "print()\n",
    "print('vocab.vectors', vocab.vectors)\n",
    "print('vocab.freqs =', vocab.freqs)\n",
    "print('vocab.stoi =', pretty(vocab.stoi))\n",
    "print('vocab:itos =', vocab.itos)\n",
    "\n",
    "vocab_2 = Vocab(counter, max_size=2)\n",
    "print()\n",
    "print('vocab_2.vectors', vocab_2.vectors)\n",
    "print('vocab_2.freqs =', vocab_2.freqs)\n",
    "print('vocab_2.stoi =', pretty(vocab_2.stoi))\n",
    "print('vocab_2:itos =', vocab_2.itos)\n",
    "\n",
    "vocab_3 = Vocab(counter, max_size=10, vectors='glove.twitter.27B.100d')\n",
    "print()\n",
    "print('vocab_3.vectors', vocab_3.vectors)\n",
    "print('vocab_3.freqs =', vocab_3.freqs)\n",
    "print('vocab_3.stoi =', pretty(vocab_3.stoi))\n",
    "print('vocab_3:itos =', vocab_3.itos)\n",
    "\n",
    "embedding_bag = EmbeddingBag.from_pretrained(vocab_3.vectors)\n",
    "embedding_bag"
   ]
  }
 ],
 "metadata": {
  "kernelspec": {
   "display_name": "Python 3",
   "language": "python",
   "name": "python3"
  },
  "language_info": {
   "codemirror_mode": {
    "name": "ipython",
    "version": 2
   },
   "file_extension": ".py",
   "mimetype": "text/x-python",
   "name": "python",
   "nbconvert_exporter": "python",
   "pygments_lexer": "ipython2",
   "version": "2.7.6"
  }
 },
 "nbformat": 4,
 "nbformat_minor": 0
}