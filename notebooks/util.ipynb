{
 "cells": [
  {
   "cell_type": "code",
   "execution_count": null,
   "metadata": {
    "collapsed": true
   },
   "outputs": [],
   "source": [
    "import matplotlib.pyplot as plt\n",
    "import numpy as np\n",
    "from matplotlib import colors\n",
    "\n",
    "def plot_tensor(tensor_, labels):\n",
    "    assert 2 <= tensor_.ndim <= 4\n",
    "    assert len(labels) == tensor_.ndim\n",
    "\n",
    "    tensor_ = tensor_.detach()\n",
    "\n",
    "    if tensor_.ndim == 2:\n",
    "        plt.imshow(tensor_.detach())\n",
    "        plt.xticks(range(tensor_.shape[1]), labels[1])\n",
    "        plt.yticks(range(tensor_.shape[0]), labels[0])\n",
    "        plt.colorbar()\n",
    "        plt.show()\n",
    "\n",
    "    else:\n",
    "        if tensor_.ndim == 3:\n",
    "            tensor_ = np.expand_dims(tensor_, axis=0)\n",
    "\n",
    "        rows, cols = tensor_.shape[:2]\n",
    "        fig, axs = plt.subplots(rows, cols, squeeze=False)\n",
    "\n",
    "        plt.setp(axs, xticks=range(tensor_.shape[-1]), xticklabels=labels[-1],\n",
    "                 yticks=range(tensor_.shape[-2]), yticklabels=labels[-2])\n",
    "\n",
    "        for ax in axs.flat:\n",
    "            plt.setp(ax.get_xticklabels(), rotation=90)\n",
    "\n",
    "        images = []\n",
    "        for i in range(rows):\n",
    "            for j in range(cols):\n",
    "                im = axs[i, j].imshow(tensor_[i, j])\n",
    "                images.append(im)\n",
    "                axs[i, j].label_outer()\n",
    "\n",
    "        # Normalize all images to same range\n",
    "        vmin = min(image.get_array().min() for image in images)\n",
    "        vmax = max(image.get_array().max() for image in images)\n",
    "        norm = colors.Normalize(vmin=vmin, vmax=vmax)\n",
    "        for im in images:\n",
    "            im.set_norm(norm)\n",
    "\n",
    "        # Colorbar on right\n",
    "        fig.subplots_adjust(right=0.8)\n",
    "        cbar_ax = fig.add_axes([0.85, 0.15, 0.05, 0.7])\n",
    "        fig.colorbar(images[0], cax=cbar_ax)\n",
    "\n",
    "        plt.show()\n",
    "\n",
    "def log_grad(tensor, title, labels):\n",
    "    print(title)\n",
    "    print(tensor)\n",
    "    plot_tensor(tensor, labels)\n",
    "\n",
    "def log_tensor(tensor, title, labels):\n",
    "    assert len(labels) == tensor.ndim\n",
    "\n",
    "    print(tensor)\n",
    "    plot_tensor(tensor, labels)\n",
    "\n",
    "    if tensor.requires_grad:\n",
    "         tensor.register_hook(lambda grad: log_tensor(grad, title, labels))"
   ]
  }
 ],
 "metadata": {
  "kernelspec": {
   "display_name": "Python 3",
   "language": "python",
   "name": "python3"
  },
  "language_info": {
   "codemirror_mode": {
    "name": "ipython",
    "version": 2
   },
   "file_extension": ".py",
   "mimetype": "text/x-python",
   "name": "python",
   "nbconvert_exporter": "python",
   "pygments_lexer": "ipython2",
   "version": "2.7.6"
  }
 },
 "nbformat": 4,
 "nbformat_minor": 0
}