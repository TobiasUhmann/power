{
 "cells": [
  {
   "cell_type": "markdown",
   "metadata": {
    "collapsed": true,
    "pycharm": {
     "name": "#%% md\n"
    }
   },
   "source": [
    "Feb 23\n",
    "\n",
    "Notebook 1, \"Simple Positive Case\" does not deliver very helpful results.\n",
    "It is not clear whether the prepared classifier weights represent the\n",
    "classifier state after being learned.\n",
    "\n",
    "A better test might be starting out with a classifier with random weights\n",
    "and trying to overfit on a single sample. The expected result would be\n",
    "learned weights that are similar to the preparation in notebook 1."
   ]
  },
  {
   "cell_type": "markdown",
   "source": [
    "# Set up helpers"
   ],
   "metadata": {
    "collapsed": false
   }
  },
  {
   "cell_type": "code",
   "execution_count": null,
   "outputs": [],
   "source": [
    "from IPython.lib.pretty import pretty\n",
    "\n",
    "def log_tensor(tensor, title, labels, vmin=None, vmax=None):\n",
    "    pass\n",
    "\n",
    "%run util.ipynb"
   ],
   "metadata": {
    "collapsed": false,
    "pycharm": {
     "name": "#%%\n"
    }
   }
  },
  {
   "cell_type": "markdown",
   "source": [
    "# 1 Input data"
   ],
   "metadata": {
    "collapsed": false
   }
  },
  {
   "cell_type": "code",
   "execution_count": null,
   "outputs": [],
   "source": [
    "data = [\n",
    "    { 'ent': 123, 'classes': [1, 1, 1], 'sents': ['married married married', 'male male male', 'American American American'] },\n",
    "    { 'ent': 123, 'classes': [1, 1, 1], 'sents': ['married married married', 'male male male', 'American American American'] },\n",
    "]"
   ],
   "metadata": {
    "collapsed": false,
    "pycharm": {
     "name": "#%%\n"
    }
   }
  },
  {
   "cell_type": "markdown",
   "source": [
    "# 2 Pre-processing\n",
    "\n",
    "## 2.1 Build vocabulary"
   ],
   "metadata": {
    "collapsed": false
   }
  },
  {
   "cell_type": "code",
   "execution_count": null,
   "outputs": [],
   "source": [
    "from collections import Counter\n",
    "from torchtext.vocab import Vocab\n",
    "\n",
    "def tokenize(text):\n",
    "    return text.split()\n",
    "\n",
    "words = [word for ent in data for sent in ent['sents'] for word in tokenize(sent)]\n",
    "vocab = Vocab(Counter(words))\n",
    "\n",
    "print(pretty(vocab.stoi))"
   ],
   "metadata": {
    "collapsed": false,
    "pycharm": {
     "name": "#%%\n"
    }
   }
  },
  {
   "cell_type": "markdown",
   "source": [
    "## 2.2 Transform data\n",
    "\n",
    "Map words to tokens and create tensors."
   ],
   "metadata": {
    "collapsed": false
   }
  },
  {
   "cell_type": "code",
   "execution_count": null,
   "outputs": [],
   "source": [
    "import torch\n",
    "from torch import tensor\n",
    "\n",
    "sents_batch = tensor([[[vocab[word] for word in tokenize(sent)] for sent in ent['sents']] for ent in data])\n",
    "classes_batch = torch.tensor([ent['classes'] for ent in data])\n",
    "\n",
    "assert len(sents_batch) == len(classes_batch)\n",
    "\n",
    "batch_size = len(sents_batch)\n",
    "sent_count = 3\n",
    "sent_len = 3\n",
    "\n",
    "ent_labels = [f'ent {i}' for i in range(batch_size)]\n",
    "sent_labels = [f'sent {i}' for i in range(sent_count)]\n",
    "tok_labels = [f'tok {i}' for i in range(sent_len)]\n",
    "\n",
    "log_tensor(sents_batch, 'sents_batch', [ent_labels, sent_labels, tok_labels])"
   ],
   "metadata": {
    "collapsed": false,
    "pycharm": {
     "name": "#%%\n"
    }
   }
  },
  {
   "cell_type": "markdown",
   "source": [
    "# 3 Prepare classifier\n",
    "\n",
    "## 3.1 Prepare EmbeddingBag\n",
    "\n",
    "Create and prepare an `EmbeddingBag` with randomly distributed token embeddings."
   ],
   "metadata": {
    "collapsed": false,
    "pycharm": {
     "name": "#%% md\n"
    }
   }
  },
  {
   "cell_type": "code",
   "execution_count": null,
   "outputs": [],
   "source": [
    "from torch.nn import EmbeddingBag\n",
    "from torch import tensor\n",
    "\n",
    "vocab_size = len(vocab)\n",
    "assert vocab_size == 5\n",
    "\n",
    "emb_size = 4\n",
    "\n",
    "embedding_bag = EmbeddingBag(num_embeddings=vocab_size, embedding_dim=emb_size)\n",
    "\n",
    "log_output = 1\n",
    "\n",
    "word_labels = ['<unk>', '<pad>', 'married', 'male', 'American']\n",
    "emb_labels = [f'emb {i}' for i in range(emb_size)]\n",
    "\n",
    "if log_output:\n",
    "    log_tensor(embedding_bag.weight, 'embedding_bag.weight', [word_labels, emb_labels])"
   ],
   "metadata": {
    "collapsed": false,
    "pycharm": {
     "name": "#%%\n"
    }
   }
  },
  {
   "cell_type": "markdown",
   "source": [
    "## 3.2 Prepare class embeddings\n",
    "\n",
    "Create randomly initialized class embeddings."
   ],
   "metadata": {
    "collapsed": false
   }
  },
  {
   "cell_type": "code",
   "execution_count": null,
   "outputs": [],
   "source": [
    "class_count = 3\n",
    "\n",
    "class_embs = torch.rand((class_count, emb_size), requires_grad=True)\n",
    "\n",
    "log_output = 1\n",
    "\n",
    "class_labels = ['married', 'male', 'American']\n",
    "\n",
    "if log_output:\n",
    "    log_tensor(class_embs, 'class_embs', [class_labels, emb_labels])"
   ],
   "metadata": {
    "collapsed": false,
    "pycharm": {
     "name": "#%%\n"
    }
   }
  },
  {
   "cell_type": "markdown",
   "source": [
    "## 3.3 Prepare linear layer\n",
    "\n",
    "Create a randomly initialized linear layer."
   ],
   "metadata": {
    "collapsed": false
   }
  },
  {
   "cell_type": "code",
   "execution_count": null,
   "outputs": [],
   "source": [
    "from torch.nn import Linear\n",
    "\n",
    "linear = Linear(class_count * emb_size, class_count)\n",
    "\n",
    "log_output = 1\n",
    "\n",
    "mix_emb_labels = [f'mix {i} / emb {j}' for i in range(class_count) for j in range(emb_size)]\n",
    "\n",
    "if log_output:\n",
    "    log_tensor(linear.weight.data, 'linear.weight.data', [class_labels, mix_emb_labels])\n",
    "    log_tensor(linear.bias.data, 'linear.bias.data', [class_labels])\n"
   ],
   "metadata": {
    "collapsed": false,
    "pycharm": {
     "name": "#%%\n"
    }
   }
  }
 ],
 "metadata": {
  "kernelspec": {
   "display_name": "Python 3",
   "language": "python",
   "name": "python3"
  },
  "language_info": {
   "codemirror_mode": {
    "name": "ipython",
    "version": 2
   },
   "file_extension": ".py",
   "mimetype": "text/x-python",
   "name": "python",
   "nbconvert_exporter": "python",
   "pygments_lexer": "ipython2",
   "version": "2.7.6"
  }
 },
 "nbformat": 4,
 "nbformat_minor": 0
}