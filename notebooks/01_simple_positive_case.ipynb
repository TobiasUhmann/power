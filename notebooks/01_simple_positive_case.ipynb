{
 "cells": [
  {
   "cell_type": "markdown",
   "metadata": {
    "collapsed": true,
    "pycharm": {
     "name": "#%% md\n"
    }
   },
   "source": [
    "Feb 21\n",
    "\n",
    "The OWER classifier does learn something - training loss decreases\n",
    " as does validation until the 5th epoch or so - but\n",
    "validation loss decreases only slightly and the results on\n",
    "\"Barack Obama is a married, male, American actor\" look bad.\n",
    "\n",
    "It is worth turning the weights of the loss function but still the\n",
    "resulting classes for Obama differ randomly from run to run. Also,\n",
    "plotting the class/word attentions shows that those converge but\n",
    "the observable correlations are not as expected.\n",
    "\n",
    "In the following a minimal example shall be constructed to proof\n",
    "the concept behind the classifier. An entity with a few short\n",
    "sentences from a small vocabulary shall be forwarded through a\n",
    "pre-trained OWER classifier whose class embeddings perfectly match\n",
    "the sentences so that the correct classes should be predicted.\n",
    "\n",
    "Example scenario:\n",
    "\n",
    "```\n",
    "Input sentences: \"married married\", \"male male\", \"american american\"\n",
    "Expected classes: married=True, male=True, american=True, actor=?\n",
    "```"
   ]
  }
 ],
 "metadata": {
  "kernelspec": {
   "display_name": "Python 3",
   "language": "python",
   "name": "python3"
  },
  "language_info": {
   "codemirror_mode": {
    "name": "ipython",
    "version": 2
   },
   "file_extension": ".py",
   "mimetype": "text/x-python",
   "name": "python",
   "nbconvert_exporter": "python",
   "pygments_lexer": "ipython2",
   "version": "2.7.6"
  }
 },
 "nbformat": 4,
 "nbformat_minor": 0
}