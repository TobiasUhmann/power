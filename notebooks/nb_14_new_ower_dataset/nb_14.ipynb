{
 "cells": [
  {
   "cell_type": "markdown",
   "metadata": {
    "collapsed": true,
    "pycharm": {
     "name": "#%% md\n"
    }
   },
   "source": [
    "Mar 11\n",
    "\n",
    "Build OWER datasets with more sentences. In fact, include all Ryn sentences\n",
    "in the OWER dataset and limit the number of sentences just before training.\n",
    "The same could be done for classes.\n",
    "\n",
    "Also, include the classes, debug information like entity names and other\n",
    "information from the Ryn dataset that is later required.\n",
    "\n"
   ]
  }
 ],
 "metadata": {
  "kernelspec": {
   "display_name": "Python 3",
   "language": "python",
   "name": "python3"
  },
  "language_info": {
   "codemirror_mode": {
    "name": "ipython",
    "version": 2
   },
   "file_extension": ".py",
   "mimetype": "text/x-python",
   "name": "python",
   "nbconvert_exporter": "python",
   "pygments_lexer": "ipython2",
   "version": "2.7.6"
  }
 },
 "nbformat": 4,
 "nbformat_minor": 0
}