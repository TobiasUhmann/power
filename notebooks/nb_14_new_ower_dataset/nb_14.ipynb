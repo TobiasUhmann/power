{
 "cells": [
  {
   "cell_type": "markdown",
   "metadata": {
    "collapsed": true,
    "pycharm": {
     "name": "#%% md\n"
    }
   },
   "source": [
    "Mar 11\n",
    "\n",
    "Build OWER datasets with more sentences. In fact, include all Ryn sentences\n",
    "in the OWER dataset and limit the number of sentences just before training.\n",
    "The same could be done for classes.\n",
    "\n",
    "Also, include the classes, debug information like entity names and other\n",
    "information from the Ryn dataset that is later required."
   ]
  },
  {
   "cell_type": "markdown",
   "source": [
    "# Imports"
   ],
   "metadata": {
    "collapsed": false,
    "pycharm": {
     "name": "#%% md\n"
    }
   }
  },
  {
   "cell_type": "code",
   "execution_count": null,
   "outputs": [],
   "source": [
    "from pandas import DataFrame\n",
    "%load_ext autoreload\n",
    "%autoreload 2\n",
    "\n",
    "from pathlib import Path\n",
    "from typing import List, Tuple\n",
    "\n",
    "from IPython.core.display import display\n",
    "\n",
    "from dao.ryn.ryn_dir import RynDir"
   ],
   "metadata": {
    "collapsed": false,
    "pycharm": {
     "name": "#%%\n"
    }
   }
  },
  {
   "cell_type": "markdown",
   "source": [
    "# Config"
   ],
   "metadata": {
    "collapsed": false,
    "pycharm": {
     "name": "#%% md\n"
    }
   }
  },
  {
   "cell_type": "code",
   "execution_count": null,
   "outputs": [],
   "source": [
    "ryn_dir_path = 'data/ryn/irt.fb.irt.30.clean'"
   ],
   "metadata": {
    "collapsed": false,
    "pycharm": {
     "name": "#%%\n"
    }
   }
  },
  {
   "cell_type": "markdown",
   "source": [
    "# 1. Load Triple TXTs"
   ],
   "metadata": {
    "collapsed": false,
    "pycharm": {
     "name": "#%% md\n"
    }
   }
  },
  {
   "cell_type": "code",
   "execution_count": null,
   "outputs": [],
   "source": [
    "ryn_dir = RynDir('Ryn Directory', Path(ryn_dir_path))\n",
    "ryn_dir.check()\n",
    "\n",
    "split_dir = ryn_dir.split_dir\n",
    "cw_train_triples: List[Tuple[int, int, int]] = split_dir.cw_train_triples_txt.load_triples()\n",
    "cw_valid_triples: List[Tuple[int, int, int]] = split_dir.cw_valid_triples_txt.load_triples()\n",
    "ow_valid_triples: List[Tuple[int, int, int]] = split_dir.ow_valid_triples_txt.load_triples()\n",
    "ow_test_triples: List[Tuple[int, int, int]] = split_dir.ow_test_triples_txt.load_triples()\n",
    "\n",
    "train_triples = cw_train_triples + cw_valid_triples\n",
    "valid_triples = ow_valid_triples\n",
    "test_triples = ow_test_triples\n",
    "\n",
    "display('train_triples', len(train_triples), train_triples[:4])\n",
    "display('valid_triples', len(valid_triples), valid_triples[:4])\n",
    "display('test_triples', len(test_triples), test_triples[:4])"
   ],
   "metadata": {
    "collapsed": false,
    "pycharm": {
     "name": "#%%\n"
    }
   }
  },
  {
   "cell_type": "code",
   "execution_count": null,
   "outputs": [],
   "source": [
    "ent_to_label = ryn_dir.split_dir.entity_labels_txt.load_rid_to_label()\n",
    "rel_to_label = ryn_dir.split_dir.relation_labels_txt.load_rid_to_label()\n",
    "\n",
    "df_cols = ['head', 'rel', 'tail']\n",
    "\n",
    "df_data = ((ent_to_label[head], rel_to_label[rel], ent_to_label[tail]) for head, rel, tail in train_triples)\n",
    "df = DataFrame(data=df_data, columns=df_cols)\n",
    "display(df)\n",
    "\n",
    "df_data = ((ent_to_label[head], rel_to_label[rel], ent_to_label[tail]) for head, rel, tail in valid_triples)\n",
    "df = DataFrame(data=df_data, columns=df_cols)\n",
    "display(df)\n",
    "\n",
    "df_data = ((ent_to_label[head], rel_to_label[rel], ent_to_label[tail]) for head, rel, tail in test_triples)\n",
    "df = DataFrame(data=df_data, columns=df_cols)\n",
    "display(df)"
   ],
   "metadata": {
    "collapsed": false,
    "pycharm": {
     "name": "#%%\n"
    }
   }
  }
 ],
 "metadata": {
  "kernelspec": {
   "display_name": "Python 3",
   "language": "python",
   "name": "python3"
  },
  "language_info": {
   "codemirror_mode": {
    "name": "ipython",
    "version": 2
   },
   "file_extension": ".py",
   "mimetype": "text/x-python",
   "name": "python",
   "nbconvert_exporter": "python",
   "pygments_lexer": "ipython2",
   "version": "2.7.6"
  }
 },
 "nbformat": 4,
 "nbformat_minor": 0
}