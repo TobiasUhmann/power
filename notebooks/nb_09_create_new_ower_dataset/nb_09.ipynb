{
 "cells": [
  {
   "cell_type": "markdown",
   "metadata": {
    "collapsed": true,
    "pycharm": {
     "name": "#%% md\n"
    }
   },
   "source": [
    "Feb 28\n",
    "\n",
    "It has turned out that the validation of the current\n",
    "ower-fb-3 dataset are not useful as all the ground truth\n",
    "classes are false for the first 300 entities.\n",
    "\n",
    "The script for building the OWER dataset needs to be\n",
    "examined and corrected. Estimated, the most frequent\n",
    "classes should be true at least for every 100th entity."
   ]
  },
  {
   "cell_type": "markdown",
   "source": [
    "# Imports"
   ],
   "metadata": {
    "collapsed": false
   }
  },
  {
   "cell_type": "code",
   "execution_count": null,
   "outputs": [],
   "source": [
    "%load_ext autoreload\n",
    "%autoreload 2\n",
    "\n",
    "from pathlib import Path\n",
    "\n",
    "from dao.classes_tsv import ClassesTsv\n",
    "from dao.ower.ower_dir import OwerDir\n",
    "from dao.ryn.ryn_dir import RynDir"
   ],
   "metadata": {
    "collapsed": false,
    "pycharm": {
     "name": "#%%\n"
    }
   }
  },
  {
   "cell_type": "markdown",
   "source": [
    "# Config"
   ],
   "metadata": {
    "collapsed": false
   }
  },
  {
   "cell_type": "code",
   "execution_count": null,
   "outputs": [],
   "source": [
    "# ryn_dataset_dir = 'data/ryn/irt.cde.cde.1.clean'\n",
    "# ryn_dataset_dir = 'data/ryn/irt.cde.irt.1.clean'\n",
    "ryn_dataset_dir = 'data/ryn/irt.cde.irt.5.clean'\n",
    "# ryn_dataset_dir = 'data/ryn/irt.cde.irt.15.clean'\n",
    "# ryn_dataset_dir = 'data/ryn/irt.cde.irt.30.clean'\n",
    "# ryn_dataset_dir = 'data/ryn/irt.fb.irt.1.clean'\n",
    "# ryn_dataset_dir = 'data/ryn/irt.fb.irt.5.clean'\n",
    "# ryn_dataset_dir = 'data/ryn/irt.fb.irt.15.clean'\n",
    "# ryn_dataset_dir = 'data/ryn/irt.fb.irt.30.clean'\n",
    "# ryn_dataset_dir = 'data/ryn/irt.fb.owe.1.clean'\n",
    "\n",
    "classes_tsv = 'data/classes-v1-mmaa.tsv'\n",
    "\n",
    "sent_count = 3\n",
    "ower_dataset_dir = 'data/ower/ower-v3-cde-irt-3'"
   ],
   "metadata": {
    "collapsed": false,
    "pycharm": {
     "name": "#%%\n"
    }
   }
  },
  {
   "cell_type": "markdown",
   "source": [
    "# 1 Check files"
   ],
   "metadata": {
    "collapsed": false,
    "pycharm": {
     "name": "#%% md\n"
    }
   }
  },
  {
   "cell_type": "code",
   "execution_count": null,
   "outputs": [],
   "source": [
    "#\n",
    "# Assert that (input) Ryn Directory exists\n",
    "#\n",
    "\n",
    "ryn_dir = RynDir('Ryn Directory', Path(ryn_dataset_dir))\n",
    "ryn_dir.check()\n",
    "\n",
    "#\n",
    "# Assert that (input) Classes TSV exists\n",
    "#\n",
    "\n",
    "classes_tsv = ClassesTsv('Classes TSV', Path(classes_tsv))\n",
    "classes_tsv.check()\n",
    "\n",
    "#\n",
    "# Create (output) OWER Dataset Directory if it does not exist already\n",
    "#\n",
    "\n",
    "ower_dir = OwerDir('OWER Directory', Path(ower_dataset_dir))\n",
    "ower_dir.create()"
   ],
   "metadata": {
    "collapsed": false,
    "pycharm": {
     "name": "#%%\n"
    }
   }
  }
 ],
 "metadata": {
  "kernelspec": {
   "display_name": "Python 3",
   "language": "python",
   "name": "python3"
  },
  "language_info": {
   "codemirror_mode": {
    "name": "ipython",
    "version": 2
   },
   "file_extension": ".py",
   "mimetype": "text/x-python",
   "name": "python",
   "nbconvert_exporter": "python",
   "pygments_lexer": "ipython2",
   "version": "2.7.6"
  }
 },
 "nbformat": 4,
 "nbformat_minor": 0
}