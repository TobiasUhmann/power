{
 "cells": [
  {
   "cell_type": "markdown",
   "metadata": {
    "collapsed": true,
    "pycharm": {
     "name": "#%% md\n"
    }
   },
   "source": [
    "Feb 28\n",
    "\n",
    "It has turned out that the validation of the current\n",
    "ower-fb-3 dataset are not useful as all the ground truth\n",
    "classes are false for the first 300 entities.\n",
    "\n",
    "The script for building the OWER dataset needs to be\n",
    "examined and corrected. Estimated, the most frequent\n",
    "classes should be true at least for every 100th entity."
   ]
  },
  {
   "cell_type": "markdown",
   "metadata": {},
   "source": [
    "# Imports"
   ]
  },
  {
   "cell_type": "code",
   "execution_count": null,
   "metadata": {
    "pycharm": {
     "name": "#%%\n"
    }
   },
   "outputs": [],
   "source": [
    "%load_ext autoreload\n",
    "%autoreload 2\n",
    "\n",
    "from IPython.lib.pretty import pretty\n",
    "from pathlib import Path\n",
    "\n",
    "from dao.ryn.ryn_dir import RynDir"
   ]
  },
  {
   "cell_type": "markdown",
   "metadata": {},
   "source": [
    "# Config"
   ]
  },
  {
   "cell_type": "code",
   "execution_count": null,
   "metadata": {
    "pycharm": {
     "name": "#%%\n"
    }
   },
   "outputs": [],
   "source": [
    "ryn_dataset_dir = 'data/ryn/irt.cde.cde.1.clean'\n",
    "# ryn_dataset_dir = 'data/ryn/irt.cde.irt.1.clean'\n",
    "# ryn_dataset_dir = 'data/ryn/irt.cde.irt.5.clean'\n",
    "# ryn_dataset_dir = 'data/ryn/irt.cde.irt.15.clean'\n",
    "# ryn_dataset_dir = 'data/ryn/irt.cde.irt.30.clean'\n",
    "# ryn_dataset_dir = 'data/ryn/irt.fb.irt.1.clean'\n",
    "# ryn_dataset_dir = 'data/ryn/irt.fb.irt.5.clean'\n",
    "# ryn_dataset_dir = 'data/ryn/irt.fb.irt.15.clean'\n",
    "# ryn_dataset_dir = 'data/ryn/irt.fb.irt.30.clean'\n",
    "# ryn_dataset_dir = 'data/ryn/irt.fb.owe.1.clean'"
   ]
  },
  {
   "cell_type": "markdown",
   "metadata": {
    "pycharm": {
     "name": "#%% md\n"
    }
   },
   "source": [
    "# 1. Check Ryn Directory\n",
    "\n",
    "Check that the Ryn Directory exists and that all required\n",
    "files exist."
   ]
  },
  {
   "cell_type": "code",
   "execution_count": null,
   "metadata": {
    "pycharm": {
     "name": "#%%\n"
    }
   },
   "outputs": [],
   "source": [
    "ryn_dir = RynDir('Ryn Directory', Path(ryn_dataset_dir))\n",
    "ryn_dir.check()\n",
    "\n",
    "debug = False\n",
    "if debug:\n",
    "    print(ryn_dir)"
   ]
  }
 ],
 "metadata": {
  "kernelspec": {
   "display_name": "Python 3",
   "language": "python",
   "name": "python3"
  },
  "language_info": {
   "codemirror_mode": {
    "name": "ipython",
    "version": 3
   },
   "file_extension": ".py",
   "mimetype": "text/x-python",
   "name": "python",
   "nbconvert_exporter": "python",
   "pygments_lexer": "ipython3",
   "version": "3.9.1"
  }
 },
 "nbformat": 4,
 "nbformat_minor": 1
}