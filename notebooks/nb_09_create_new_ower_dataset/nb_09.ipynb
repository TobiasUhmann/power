{
 "cells": [
  {
   "cell_type": "markdown",
   "metadata": {
    "collapsed": true,
    "pycharm": {
     "name": "#%% md\n"
    }
   },
   "source": [
    "Feb 28\n",
    "\n",
    "It has turned out that the validation of the current\n",
    "ower-fb-3 dataset are not useful as all the ground truth\n",
    "classes are false for the first 300 entities.\n",
    "\n",
    "The script for building the OWER dataset needs to be\n",
    "examined and corrected. Estimated, the most frequent\n",
    "classes should be true at least for every 100th entity."
   ]
  }
 ],
 "metadata": {
  "kernelspec": {
   "display_name": "Python 3",
   "language": "python",
   "name": "python3"
  },
  "language_info": {
   "codemirror_mode": {
    "name": "ipython",
    "version": 2
   },
   "file_extension": ".py",
   "mimetype": "text/x-python",
   "name": "python",
   "nbconvert_exporter": "python",
   "pygments_lexer": "ipython2",
   "version": "2.7.6"
  }
 },
 "nbformat": 4,
 "nbformat_minor": 0
}