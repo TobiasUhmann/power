{
 "cells": [
  {
   "cell_type": "markdown",
   "metadata": {
    "collapsed": true,
    "pycharm": {
     "name": "#%% md\n"
    }
   },
   "source": [
    "This notebook gives an overview of a specified Ryn Dataset Directory."
   ]
  },
  {
   "cell_type": "markdown",
   "metadata": {},
   "source": [
    "# Imports"
   ]
  },
  {
   "cell_type": "code",
   "execution_count": null,
   "metadata": {
    "pycharm": {
     "name": "#%%\n"
    }
   },
   "outputs": [],
   "source": [
    "%load_ext autoreload\n",
    "%autoreload 2\n",
    "\n",
    "from pathlib import Path\n",
    "\n",
    "import pandas as pd\n",
    "from IPython.core.display import display\n",
    "\n",
    "from dao.ryn.ryn_dir import RynDir\n",
    "\n",
    "pd.set_option('display.max_colwidth', None)\n",
    "pd.set_option('display.max_rows', 100)"
   ]
  },
  {
   "cell_type": "markdown",
   "metadata": {},
   "source": [
    "# Config"
   ]
  },
  {
   "cell_type": "code",
   "execution_count": null,
   "metadata": {
    "pycharm": {
     "name": "#%%\n"
    }
   },
   "outputs": [],
   "source": [
    "# ryn_dataset_dir = 'data/ryn/irt.cde.cde.1.clean'\n",
    "# ryn_dataset_dir = 'data/ryn/irt.cde.irt.1.clean'\n",
    "# ryn_dataset_dir = 'data/ryn/irt.cde.irt.5.clean'\n",
    "# ryn_dataset_dir = 'data/ryn/irt.cde.irt.15.clean'\n",
    "# ryn_dataset_dir = 'data/ryn/irt.cde.irt.30.clean'\n",
    "# ryn_dataset_dir = 'data/ryn/irt.fb.irt.1.clean'\n",
    "ryn_dataset_dir = 'data/ryn/irt.fb.irt.5.clean'\n",
    "# ryn_dataset_dir = 'data/ryn/irt.fb.irt.15.clean'\n",
    "# ryn_dataset_dir = 'data/ryn/irt.fb.irt.30.clean'\n",
    "# ryn_dataset_dir = 'data/ryn/irt.fb.owe.1.clean'"
   ]
  },
  {
   "cell_type": "markdown",
   "metadata": {
    "pycharm": {
     "name": "#%% md\n"
    }
   },
   "source": [
    "# Check Ryn Directory\n",
    "\n",
    "Check that the Ryn Directory exists and that all required\n",
    "files exist."
   ]
  },
  {
   "cell_type": "code",
   "execution_count": null,
   "metadata": {
    "pycharm": {
     "name": "#%%\n"
    },
    "scrolled": true
   },
   "outputs": [],
   "source": [
    "ryn_dir = RynDir('Ryn Directory', Path(ryn_dataset_dir))\n",
    "ryn_dir.check()\n",
    "\n",
    "# print(ryn_dir)"
   ]
  },
  {
   "cell_type": "markdown",
   "metadata": {
    "pycharm": {
     "name": "#%% md\n"
    }
   },
   "source": [
    "## 1 Ryn Split Directory\n",
    "\n",
    "### 1.1 Entity Labels"
   ]
  },
  {
   "cell_type": "code",
   "execution_count": null,
   "metadata": {
    "pycharm": {
     "name": "#%%\n"
    }
   },
   "outputs": [],
   "source": [
    "ent_to_label = ryn_dir.split_dir.entity_labels_txt.load_rid_to_label()\n",
    "print(len(ent_to_label), 'entities')\n",
    "display(ent_to_label)"
   ]
  },
  {
   "cell_type": "markdown",
   "metadata": {
    "pycharm": {
     "name": "#%% md\n"
    }
   },
   "source": [
    "### 1.2 Relation Labels"
   ]
  },
  {
   "cell_type": "code",
   "execution_count": null,
   "metadata": {
    "pycharm": {
     "name": "#%%\n"
    },
    "scrolled": true
   },
   "outputs": [],
   "source": [
    "rel_to_label = ryn_dir.split_dir.relation_labels_txt.load_rid_to_label()\n",
    "print(len(rel_to_label), 'relations')\n",
    "display(rel_to_label)"
   ]
  },
  {
   "cell_type": "markdown",
   "metadata": {},
   "source": [
    "### 1.3 CW Train Triples"
   ]
  },
  {
   "cell_type": "code",
   "execution_count": null,
   "metadata": {
    "pycharm": {
     "name": "#%%\n"
    }
   },
   "outputs": [],
   "source": [
    "cw_train_triples = ryn_dir.split_dir.cw_train_triples_txt.load_triples()\n",
    "\n",
    "df_cols = ['head', 'rel', 'tail']\n",
    "df_data = [(ent_to_label[head], rel_to_label[rel], ent_to_label[tail])\n",
    "           for head, rel, tail in cw_train_triples]\n",
    "\n",
    "pd.DataFrame(data=df_data, columns=df_cols)"
   ]
  },
  {
   "cell_type": "markdown",
   "metadata": {},
   "source": [
    "### 1.4 CW Valid Triples"
   ]
  },
  {
   "cell_type": "code",
   "execution_count": null,
   "metadata": {
    "pycharm": {
     "name": "#%%\n"
    }
   },
   "outputs": [],
   "source": [
    "cw_valid_triples = ryn_dir.split_dir.cw_valid_triples_txt.load_triples()\n",
    "\n",
    "df_cols = ['head', 'rel', 'tail']\n",
    "df_data = [(ent_to_label[head], rel_to_label[rel], ent_to_label[tail])\n",
    "           for head, rel, tail in cw_valid_triples]\n",
    "\n",
    "pd.DataFrame(data=df_data, columns=df_cols)"
   ]
  },
  {
   "cell_type": "markdown",
   "metadata": {},
   "source": [
    "### 1.5 OW Valid Triples"
   ]
  },
  {
   "cell_type": "code",
   "execution_count": null,
   "metadata": {
    "pycharm": {
     "name": "#%%\n"
    }
   },
   "outputs": [],
   "source": [
    "ow_valid_triples = ryn_dir.split_dir.ow_valid_triples_txt.load_triples()\n",
    "\n",
    "df_cols = ['head', 'rel', 'tail']\n",
    "df_data = [(ent_to_label[head], rel_to_label[rel], ent_to_label[tail])\n",
    "           for head, rel, tail in ow_valid_triples]\n",
    "\n",
    "pd.DataFrame(data=df_data, columns=df_cols)"
   ]
  },
  {
   "cell_type": "markdown",
   "metadata": {},
   "source": [
    "### 1.6 OW Test Triples"
   ]
  },
  {
   "cell_type": "code",
   "execution_count": null,
   "metadata": {
    "pycharm": {
     "name": "#%%\n"
    }
   },
   "outputs": [],
   "source": [
    "ow_test_triples = ryn_dir.split_dir.ow_valid_triples_txt.load_triples()\n",
    "\n",
    "df_cols = ['head', 'rel', 'tail']\n",
    "df_data = [(ent_to_label[head], rel_to_label[rel], ent_to_label[tail])\n",
    "           for head, rel, tail in ow_test_triples]\n",
    "\n",
    "pd.DataFrame(data=df_data, columns=df_cols)"
   ]
  },
  {
   "cell_type": "markdown",
   "metadata": {},
   "source": [
    "## 2 Ryn Text Directory\n",
    "\n",
    "### 2.1 CW Train Sentences"
   ]
  },
  {
   "cell_type": "code",
   "execution_count": null,
   "metadata": {
    "pycharm": {
     "name": "#%%\n"
    }
   },
   "outputs": [],
   "source": [
    "cw_train_sents = ryn_dir.text_dir.cw_train_sentences_txt.load_ent_to_sentences()\n",
    "\n",
    "df_cols = ['entity', 'sentence']\n",
    "df_data = [(ent_to_label[ent], sent) for ent, sents in cw_train_sents.items() for sent in sents]\n",
    "\n",
    "pd.DataFrame(data=df_data, columns=df_cols)"
   ]
  },
  {
   "cell_type": "markdown",
   "metadata": {},
   "source": [
    "### 2.2 OW Valid Sentences"
   ]
  },
  {
   "cell_type": "code",
   "execution_count": null,
   "metadata": {
    "pycharm": {
     "name": "#%%\n"
    }
   },
   "outputs": [],
   "source": [
    "ow_valid_sents = ryn_dir.text_dir.ow_valid_sentences_txt.load_ent_to_sentences()\n",
    "\n",
    "df_cols = ['entity', 'sentence']\n",
    "df_data = [(ent_to_label[ent], sent) for ent, sents in ow_valid_sents.items() for sent in sents]\n",
    "\n",
    "pd.DataFrame(data=df_data, columns=df_cols)"
   ]
  },
  {
   "cell_type": "markdown",
   "metadata": {},
   "source": [
    "### 2.3 OW Test Sentences"
   ]
  },
  {
   "cell_type": "code",
   "execution_count": null,
   "metadata": {
    "pycharm": {
     "name": "#%%\n"
    }
   },
   "outputs": [],
   "source": [
    "ow_test_sents = ryn_dir.text_dir.ow_test_sentences_txt.load_ent_to_sentences()\n",
    "\n",
    "df_cols = ['entity', 'sentence']\n",
    "df_data = [(ent_to_label[ent], sent) for ent, sents in ow_test_sents.items() for sent in sents]\n",
    "\n",
    "pd.DataFrame(data=df_data, columns=df_cols)"
   ]
  }
 ],
 "metadata": {
  "kernelspec": {
   "display_name": "Python 3",
   "language": "python",
   "name": "python3"
  },
  "language_info": {
   "codemirror_mode": {
    "name": "ipython",
    "version": 3
   },
   "file_extension": ".py",
   "mimetype": "text/x-python",
   "name": "python",
   "nbconvert_exporter": "python",
   "pygments_lexer": "ipython3",
   "version": "3.9.1"
  }
 },
 "nbformat": 4,
 "nbformat_minor": 1
}