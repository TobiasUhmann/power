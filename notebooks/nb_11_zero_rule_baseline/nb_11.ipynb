{
 "cells": [
  {
   "cell_type": "markdown",
   "metadata": {
    "collapsed": true,
    "pycharm": {
     "name": "#%% md\n"
    }
   },
   "source": [
    "# Imports"
   ]
  },
  {
   "cell_type": "code",
   "execution_count": null,
   "metadata": {
    "pycharm": {
     "name": "#%%\n"
    }
   },
   "outputs": [],
   "source": [
    "%load_ext autoreload\n",
    "%autoreload 2\n",
    "\n",
    "from pathlib import Path\n",
    "from typing import List\n",
    "\n",
    "import numpy as np\n",
    "from IPython.core.display import display\n",
    "from pandas import DataFrame\n",
    "from sklearn.dummy import DummyClassifier\n",
    "from sklearn.metrics import accuracy_score, precision_score, recall_score, f1_score\n",
    "\n",
    "from dao.ower.ower_dir import OwerDir, Sample"
   ]
  },
  {
   "cell_type": "markdown",
   "metadata": {
    "pycharm": {
     "name": "#%% md\n"
    }
   },
   "source": [
    "# Config"
   ]
  },
  {
   "cell_type": "code",
   "execution_count": null,
   "metadata": {
    "pycharm": {
     "name": "#%%\n"
    }
   },
   "outputs": [],
   "source": [
    "class_count = 4\n",
    "sent_count = 3\n",
    "class_labels = ['married', 'male', 'American', 'actor']"
   ]
  },
  {
   "cell_type": "markdown",
   "metadata": {
    "pycharm": {
     "name": "#%% md\n"
    }
   },
   "source": [
    "# Load train/valid datasets"
   ]
  },
  {
   "cell_type": "code",
   "execution_count": null,
   "metadata": {
    "pycharm": {
     "name": "#%%\n"
    }
   },
   "outputs": [],
   "source": [
    "ower_dir_path = Path('data/ower/ower-v3-fb-irt-3')\n",
    "ower_dir = OwerDir('OWER Dataset Directory', ower_dir_path, class_count, sent_count)\n",
    "ower_dir.check()\n",
    "\n",
    "train_set: List[Sample]\n",
    "valid_set: List[Sample]\n",
    "\n",
    "train_set, valid_set, _, vocab = ower_dir.read_datasets()"
   ]
  },
  {
   "cell_type": "markdown",
   "metadata": {
    "pycharm": {
     "name": "#%% md\n"
    }
   },
   "source": [
    "# Calc class frequencies"
   ]
  },
  {
   "cell_type": "code",
   "execution_count": null,
   "metadata": {
    "pycharm": {
     "name": "#%%\n"
    }
   },
   "outputs": [],
   "source": [
    "_, train_classes_stack, _ = zip(*train_set)\n",
    "_, valid_classes_stack, _ = zip(*valid_set)\n",
    "\n",
    "train_classes_stack = np.array(train_classes_stack)\n",
    "valid_classes_stack = np.array(valid_classes_stack)\n",
    "\n",
    "print('train_class_freqs =', train_classes_stack.mean(axis=0))\n",
    "print('valid_class_freqs =', valid_classes_stack.mean(axis=0))"
   ]
  },
  {
   "cell_type": "markdown",
   "metadata": {},
   "source": [
    "# Dummy Classifiers"
   ]
  },
  {
   "cell_type": "code",
   "execution_count": null,
   "metadata": {
    "pycharm": {
     "name": "#%%\n"
    },
    "scrolled": false
   },
   "outputs": [],
   "source": [
    "for strategy in ('uniform', 'stratified', 'most_frequent'):\n",
    "    print(strategy)\n",
    "    \n",
    "    print('train_class_freqs =', train_classes_stack.mean(axis=0))\n",
    "    print('valid_class_freqs =', valid_classes_stack.mean(axis=0))\n",
    "\n",
    "    for class_stack in (train_classes_stack, valid_classes_stack):\n",
    "\n",
    "        mean_metrics = []\n",
    "        for i, gt in enumerate(class_stack.T):\n",
    "\n",
    "            classifier = DummyClassifier(strategy=strategy)\n",
    "            classifier.fit(gt, gt)\n",
    "\n",
    "            metrics_list = []\n",
    "            for _ in range(100):\n",
    "                pred = classifier.predict(gt)\n",
    "\n",
    "                acc = accuracy_score(gt, pred)\n",
    "                prec = precision_score(gt, pred, zero_division=0)\n",
    "                recall = recall_score(gt, pred)\n",
    "                f1 = f1_score(gt, pred)\n",
    "\n",
    "                metrics_list.append((acc, prec, recall, f1))\n",
    "\n",
    "            # df_cols = ['Accuracy', 'Precision', 'Recall', 'F1']\n",
    "            # df = DataFrame(data=metrics_list, columns=df_cols)\n",
    "            # df.plot()\n",
    "\n",
    "            mean_metrics.append(np.mean(metrics_list, axis=0))\n",
    "\n",
    "        df_cols = ['Accuracy', 'Precision', 'Recall', 'F1']\n",
    "        df_rows = class_labels\n",
    "        df_data = ((f'{100*acc:.1f}%', f'{100*prec:.1f}%', f'{100*rec:.1f}%', f'{100*f1:.1f}%')\n",
    "                   for acc, prec, rec, f1 in mean_metrics)\n",
    "\n",
    "        df = DataFrame(data=df_data, index=df_rows, columns=df_cols)\n",
    "        display(df)"
   ]
  }
 ],
 "metadata": {
  "kernelspec": {
   "display_name": "Python 3",
   "language": "python",
   "name": "python3"
  },
  "language_info": {
   "codemirror_mode": {
    "name": "ipython",
    "version": 3
   },
   "file_extension": ".py",
   "mimetype": "text/x-python",
   "name": "python",
   "nbconvert_exporter": "python",
   "pygments_lexer": "ipython3",
   "version": "3.9.1"
  }
 },
 "nbformat": 4,
 "nbformat_minor": 1
}